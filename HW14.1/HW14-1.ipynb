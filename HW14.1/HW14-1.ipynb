{
  "cells": [
    {
      "cell_type": "markdown",
      "metadata": {},
      "source": [
        "# HW14.1: Keyword command recognition\n",
        "\n",
        "In this homework, we will practice using spectrogram and mel-spectrograms for audio classification. Specifically, we will perform the task of keyword command recognition from speech audio. We will use a tutorial published by `Tensorflow` as a template and we will experiment on top of it. You can find the original tutorial here: https://www.tensorflow.org/tutorials/audio/simple_audio"
      ]
    },
    {
      "cell_type": "markdown",
      "metadata": {
        "id": "SPfDNFlb66XF"
      },
      "source": [
        "This tutorial demonstrates how to preprocess audio files in the WAV format and build and train a basic [automatic speech recognition](https://en.wikipedia.org/wiki/Speech_recognition) (ASR) model for recognizing ten different words. You will use a portion of the [Speech Commands dataset](https://www.tensorflow.org/datasets/catalog/speech_commands) ([Warden, 2018](https://arxiv.org/abs/1804.03209)), which contains short (one-second or less) audio clips of commands, such as \"down\", \"go\", \"left\", \"no\", \"right\", \"stop\", \"up\" and \"yes\".\n",
        "\n",
        "Real-world speech and audio recognition [systems](https://ai.googleblog.com/search/label/Speech%20Recognition) are complex. But, like [image classification with the MNIST dataset](../quickstart/beginner.ipynb), this tutorial should give you a basic understanding of the techniques involved.\n",
        "\n",
        "Note: you can choose to run this either on Colab or on your own laptop, since you will download some data first and save to disk. If you do run on Colab, make sure you are using GPU. For local computers, virtual envs are recommended.  "
      ]
    },
    {
      "cell_type": "markdown",
      "metadata": {
        "id": "Go9C3uLL8Izc"
      },
      "source": [
        "## 0. Setup\n",
        "\n",
        "Import necessary modules and dependencies. You'll be using `tf.keras.utils.audio_dataset_from_directory` (introduced in TensorFlow 2.10), which helps generate audio classification datasets from directories of `.wav` files. You'll also need [seaborn](https://seaborn.pydata.org) for visualization in this tutorial.\n",
        "\n"
      ]
    },
    {
      "cell_type": "code",
      "execution_count": null,
      "metadata": {
        "colab": {
          "base_uri": "https://localhost:8080/"
        },
        "id": "hhNW45sjDEDe",
        "outputId": "256d4827-736a-4a4f-88b2-4283f7c74b4a"
      },
      "outputs": [],
      "source": [
        "!pip install -U -q tensorflow tensorflow_datasets"
      ]
    },
    {
      "cell_type": "code",
      "execution_count": null,
      "metadata": {},
      "outputs": [],
      "source": [
        "!pip install seaborn"
      ]
    },
    {
      "cell_type": "code",
      "execution_count": 2,
      "metadata": {
        "id": "dzLKpmZICaWN"
      },
      "outputs": [],
      "source": [
        "import os\n",
        "import pathlib\n",
        "\n",
        "import matplotlib.pyplot as plt\n",
        "import numpy as np\n",
        "import seaborn as sns\n",
        "import tensorflow as tf\n",
        "\n",
        "from tensorflow.keras import layers\n",
        "from tensorflow.keras import models\n",
        "from IPython import display\n",
        "\n",
        "# Set the seed value for experiment reproducibility.\n",
        "seed = 42\n",
        "tf.random.set_seed(seed)\n",
        "np.random.seed(seed)"
      ]
    },
    {
      "cell_type": "markdown",
      "metadata": {
        "id": "yR0EdgrLCaWR"
      },
      "source": [
        "## 1.1 Download the mini Speech Commands dataset\n",
        "\n",
        "To save time with data loading, you will be working with a smaller version of the Speech Commands dataset. The [original dataset](https://www.tensorflow.org/datasets/catalog/speech_commands) consists of over 105,000 audio files in the [WAV (Waveform) audio file format](https://www.aelius.com/njh/wavemetatools/doc/riffmci.pdf) of people saying 35 different words. This data was collected by Google and released under a CC BY license.\n",
        "\n",
        "Download and extract the `mini_speech_commands.zip` file containing the smaller Speech Commands datasets with `tf.keras.utils.get_file`:"
      ]
    },
    {
      "cell_type": "code",
      "execution_count": 3,
      "metadata": {
        "colab": {
          "base_uri": "https://localhost:8080/"
        },
        "id": "2-rayb7-3Y0I",
        "outputId": "66ead425-b004-4b8d-d14b-bc62247efb9f"
      },
      "outputs": [],
      "source": [
        "DATASET_PATH = 'data/mini_speech_commands'\n",
        "\n",
        "data_dir = pathlib.Path(DATASET_PATH)\n",
        "if not data_dir.exists():\n",
        "  tf.keras.utils.get_file(\n",
        "      'mini_speech_commands.zip',\n",
        "      origin=\"http://storage.googleapis.com/download.tensorflow.org/data/mini_speech_commands.zip\",\n",
        "      extract=True,\n",
        "      cache_dir='.', cache_subdir='data')"
      ]
    },
    {
      "cell_type": "markdown",
      "metadata": {},
      "source": [
        "## 1.2 Divide the data into train, validation, test"
      ]
    },
    {
      "cell_type": "markdown",
      "metadata": {
        "id": "BgvFq3uYiS5G"
      },
      "source": [
        "The dataset's audio clips are stored in eight folders corresponding to each speech command: `no`, `yes`, `down`, `go`, `left`, `up`, `right`, and `stop`:"
      ]
    },
    {
      "cell_type": "code",
      "execution_count": null,
      "metadata": {
        "colab": {
          "base_uri": "https://localhost:8080/"
        },
        "id": "70IBxSKxA1N9",
        "outputId": "c81a19e4-63c5-4bd8-ec0f-3e404cf6b014"
      },
      "outputs": [],
      "source": [
        "commands = np.array(tf.io.gfile.listdir(str(data_dir)))\n",
        "commands = commands[(commands != 'README.md') & (commands != '.DS_Store')]\n",
        "print('Commands:', commands)"
      ]
    },
    {
      "cell_type": "markdown",
      "metadata": {
        "id": "TZ7GJjDvHqtt"
      },
      "source": [
        "Divided into directories this way, you can easily load the data using `keras.utils.audio_dataset_from_directory`.\n",
        "\n",
        "The audio clips are 1 second or less at 16kHz. The `output_sequence_length=16000` pads the short ones to exactly 1 second (and would trim longer ones) so that they can be easily batched."
      ]
    },
    {
      "cell_type": "code",
      "execution_count": null,
      "metadata": {
        "colab": {
          "base_uri": "https://localhost:8080/"
        },
        "id": "mFM4c3aMC8Qv",
        "outputId": "a803570b-8322-47a9-d86b-34e145ef386e"
      },
      "outputs": [],
      "source": [
        "train_ds, val_ds = tf.keras.utils.audio_dataset_from_directory(\n",
        "    directory=data_dir,\n",
        "    batch_size=64,\n",
        "    validation_split=0.2,\n",
        "    seed=0,\n",
        "    output_sequence_length=16000,\n",
        "    subset='both')\n",
        "\n",
        "label_names = np.array(train_ds.class_names)\n",
        "print()\n",
        "print(\"label names:\", label_names)"
      ]
    },
    {
      "cell_type": "markdown",
      "metadata": {
        "id": "cestp83qFnU5"
      },
      "source": [
        "The dataset now contains batches of audio clips and integer labels. The audio clips have a shape of `(batch, samples, channels)`."
      ]
    },
    {
      "cell_type": "code",
      "execution_count": null,
      "metadata": {
        "colab": {
          "base_uri": "https://localhost:8080/"
        },
        "id": "3yU6SQGIFb3H",
        "outputId": "060e745c-863f-42db-9129-27acfe6e8bd3"
      },
      "outputs": [],
      "source": [
        "# to see the shapes and internal attributes of this dataset\n",
        "train_ds.element_spec"
      ]
    },
    {
      "cell_type": "markdown",
      "metadata": {
        "id": "ppG9Dgq2Ex8R"
      },
      "source": [
        "This dataset only contains single channel audio, so use the `tf.squeeze` function to drop the extra axis:"
      ]
    },
    {
      "cell_type": "code",
      "execution_count": 7,
      "metadata": {
        "id": "Xl-tnniUIBlM"
      },
      "outputs": [],
      "source": [
        "def squeeze(audio, labels):\n",
        "  audio = tf.squeeze(audio, axis=-1)\n",
        "  return audio, labels\n",
        "\n",
        "train_ds = train_ds.map(squeeze, tf.data.AUTOTUNE)\n",
        "val_ds = val_ds.map(squeeze, tf.data.AUTOTUNE)"
      ]
    },
    {
      "cell_type": "markdown",
      "metadata": {
        "id": "DtsCSWZN5ILv"
      },
      "source": [
        "The `utils.audio_dataset_from_directory` function only returns up to two splits. It's a good idea to keep a test set separate from your validation set.\n",
        "Ideally you'd keep it in a separate directory, but in this case you can use `Dataset.shard` to split the validation set into two halves. Note that iterating over **any** shard will load **all** the data, and only keep its fraction."
      ]
    },
    {
      "cell_type": "code",
      "execution_count": 8,
      "metadata": {
        "id": "u5UEGsqM5Gss"
      },
      "outputs": [],
      "source": [
        "test_ds = val_ds.shard(num_shards=2, index=0)\n",
        "val_ds = val_ds.shard(num_shards=2, index=1)"
      ]
    },
    {
      "cell_type": "code",
      "execution_count": null,
      "metadata": {
        "colab": {
          "base_uri": "https://localhost:8080/"
        },
        "id": "xIeoJcwJH5h9",
        "outputId": "c914bb5f-e61d-4068-a509-3e10173ea6af"
      },
      "outputs": [],
      "source": [
        "for example_audio, example_labels in train_ds.take(1):\n",
        "  print(example_audio.shape)\n",
        "  print(example_labels.shape)"
      ]
    },
    {
      "cell_type": "markdown",
      "metadata": {
        "id": "voxGEwvuh2L7"
      },
      "source": [
        "Let's plot a few audio waveforms:"
      ]
    },
    {
      "cell_type": "code",
      "execution_count": 10,
      "metadata": {
        "colab": {
          "base_uri": "https://localhost:8080/"
        },
        "id": "dYtGq2zYNHuT",
        "outputId": "77cc32bd-99e8-4c9a-99e7-eb9d638dc781"
      },
      "outputs": [
        {
          "data": {
            "text/plain": [
              "array(['go', 'go', 'no', 'down'], dtype='<U5')"
            ]
          },
          "execution_count": 10,
          "metadata": {},
          "output_type": "execute_result"
        }
      ],
      "source": [
        "label_names[[1,1,3,0]]"
      ]
    },
    {
      "cell_type": "code",
      "execution_count": null,
      "metadata": {
        "colab": {
          "base_uri": "https://localhost:8080/",
          "height": 704
        },
        "id": "8yuX6Nqzf6wT",
        "outputId": "e8be74f1-c169-4fec-d83b-ee21b3ae84f1"
      },
      "outputs": [],
      "source": [
        "plt.figure(figsize=(16, 10))\n",
        "rows = 3\n",
        "cols = 3\n",
        "n = rows * cols\n",
        "for i in range(n):\n",
        "  plt.subplot(rows, cols, i+1)\n",
        "  audio_signal = example_audio[i]\n",
        "  plt.plot(audio_signal)\n",
        "  plt.title(label_names[example_labels[i]])\n",
        "  plt.yticks(np.arange(-1.2, 1.2, 0.2))\n",
        "  plt.ylim([-1.1, 1.1])"
      ]
    },
    {
      "cell_type": "markdown",
      "metadata": {},
      "source": [
        "## 2. Convert waveforms to spectrograms\n",
        "\n",
        "### 2.1 Convert audio to plain (linear) spectrograms "
      ]
    },
    {
      "cell_type": "markdown",
      "metadata": {
        "id": "EWXPphxm0B4m"
      },
      "source": [
        "\n",
        "The waveforms in the dataset are represented in the time domain. Next, you'll transform the waveforms from the time-domain signals into the time-frequency-domain signals by computing the [short-time Fourier transform (STFT)](https://en.wikipedia.org/wiki/Short-time_Fourier_transform) to convert the waveforms to as [spectrograms](https://en.wikipedia.org/wiki/Spectrogram), which show frequency changes over time and can be represented as 2D images. You will feed the spectrogram images into your neural network to train the model.\n",
        "\n",
        "A Fourier transform (`tf.signal.fft`) converts a signal to its component frequencies, but loses all time information. In comparison, STFT (`tf.signal.stft`) splits the signal into windows of time and runs a Fourier transform on each window, preserving some time information, and returning a 2D tensor that you can run standard convolutions on.\n",
        "\n",
        "Create a utility function for converting waveforms to spectrograms:\n",
        "\n",
        "- The waveforms need to be of the same length, so that when you convert them to spectrograms, the results have similar dimensions. This can be done by simply zero-padding the audio clips that are shorter than one second (using `tf.zeros`).\n",
        "- When calling `tf.signal.stft`, choose the `frame_length` and `frame_step` parameters such that the generated spectrogram \"image\" is almost square. For more information on the STFT parameters choice, refer to [this Coursera video](https://www.coursera.org/lecture/audio-signal-processing/stft-2-tjEQe) on audio signal processing and STFT.\n",
        "- The STFT produces an array of complex numbers representing magnitude and phase. However, in this tutorial you'll only use the magnitude, which you can derive by applying `tf.abs` on the output of `tf.signal.stft`.\n",
        "\n",
        "Note: here we are using the native tensorflow functions to do these transforms because they are faster and better integrated when you train a model in tensorflow. But normally it is common to use `librosa` for doing these things, which maybe easier to use. "
      ]
    },
    {
      "cell_type": "code",
      "execution_count": 25,
      "metadata": {},
      "outputs": [],
      "source": [
        "def get_spectrogram(waveform):\n",
        "  # Convert the waveform to a spectrogram via a STFT.\n",
        "  spectrogram = tf.signal.stft(waveform, frame_length=255, frame_step=128)\n",
        "  # Obtain the magnitude of the STFT.\n",
        "  spectrogram = tf.abs(spectrogram)\n",
        "  #print('intermediate:',spectrogram.shape)\n",
        "  # Add a `channels` dimension, so that the spectrogram can be used\n",
        "  # as image-like input data with convolution layers (which expect\n",
        "  # shape (`batch_size`, `height`, `width`, `channels`).\n",
        "  spectrogram = spectrogram[..., tf.newaxis]\n",
        "  return spectrogram"
      ]
    },
    {
      "cell_type": "markdown",
      "metadata": {},
      "source": [
        "### 2.2 Convert to Mel-spectrograms \n",
        "\n",
        "Mel scale is used to model human perception of pitch and frequencies by taking a log scale on linear Hertz values. To make a Mel-spectrogram, we first make (A) a plain spectrogram; (B) a set of Mel filters (matrixes). Then we just multiply the two to get Mel-spectrogram. Note that you can specify the number of Mel frequency bins to output. Common values are 40, 64, 128, etc., but they are typically smaller than the number of bins in the plain spectrograms. This is given by the `NUM_MEL` parameter. \n",
        "\n"
      ]
    },
    {
      "cell_type": "code",
      "execution_count": 13,
      "metadata": {
        "id": "1zY6X7CEZvDi"
      },
      "outputs": [],
      "source": [
        "NUM_FFT = 512\n",
        "NUM_FREQS = 257\n",
        "NUM_MEL = 40\n",
        "SAMPLE_RATE = 16000\n",
        "F_MIN = 0\n",
        "F_MAX = 8000\n"
      ]
    },
    {
      "cell_type": "code",
      "execution_count": 14,
      "metadata": {
        "id": "hWVyJ35_anmX"
      },
      "outputs": [],
      "source": [
        "# create the mel filters\n",
        "lin_to_mel_matrix = tf.signal.linear_to_mel_weight_matrix(\n",
        "            num_mel_bins=NUM_MEL,\n",
        "            num_spectrogram_bins=NUM_FREQS,\n",
        "            sample_rate=SAMPLE_RATE,\n",
        "            lower_edge_hertz=F_MIN,\n",
        "            upper_edge_hertz=F_MAX,\n",
        "        )"
      ]
    },
    {
      "cell_type": "code",
      "execution_count": 18,
      "metadata": {
        "id": "_4CK75DHz_OR"
      },
      "outputs": [],
      "source": [
        "def get_spectrogramMelTF(waveform):\n",
        "  stfts = tf.signal.stft(\n",
        "            waveform, frame_length=512, frame_step=256\n",
        "        )\n",
        "  mag_stfts = tf.abs(stfts)\n",
        "  log_melspectrograms = tf.tensordot(mag_stfts, lin_to_mel_matrix, 1)\n",
        "  mel_spectrogram = log_melspectrograms[..., tf.newaxis]\n",
        "  return mel_spectrogram\n"
      ]
    },
    {
      "cell_type": "markdown",
      "metadata": {},
      "source": [
        "### 2.3 Inspect some spectrograms and mel-spectrograms"
      ]
    },
    {
      "cell_type": "code",
      "execution_count": null,
      "metadata": {
        "colab": {
          "base_uri": "https://localhost:8080/"
        },
        "id": "mpQ-bybgfvfC",
        "outputId": "99655e08-75a7-4d5b-b6de-4a97c58fcada"
      },
      "outputs": [],
      "source": [
        "\n",
        "for i in range(5):\n",
        "  label = label_names[example_labels[i]]\n",
        "  waveform = example_audio[i]\n",
        "  print(\"audio waveform shape:\",waveform.shape)\n",
        "  spectrogram = get_spectrogram(waveform)\n",
        "  print(\"spectrogram shape:\",spectrogram.shape)\n",
        "print('\\n')\n",
        "\n",
        "\n"
      ]
    },
    {
      "cell_type": "code",
      "execution_count": 29,
      "metadata": {
        "colab": {
          "base_uri": "https://localhost:8080/",
          "height": 75
        },
        "id": "yer-K6i7qbjE",
        "outputId": "a58b157c-b32f-45d3-d547-ad1cb3e00f17"
      },
      "outputs": [
        {
          "data": {
            "text/html": [
              "\n",
              "                <audio  controls=\"controls\" >\n",
              "                    <source src=\"data:audio/wav;base64,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\" type=\"audio/wav\" />\n",
              "                    Your browser does not support the audio element.\n",
              "                </audio>\n",
              "              "
            ],
            "text/plain": [
              "<IPython.lib.display.Audio object>"
            ]
          },
          "metadata": {},
          "output_type": "display_data"
        }
      ],
      "source": [
        "# listen to the last audio clip above \n",
        "display.display(display.Audio(waveform, rate=16000))"
      ]
    },
    {
      "cell_type": "markdown",
      "metadata": {},
      "source": [
        "# Task 1: print out the shapes of 5 examples of mel-spectrograms like the spectrograms above. What do you see in their shapes? Why are they so different? "
      ]
    },
    {
      "cell_type": "code",
      "execution_count": null,
      "metadata": {},
      "outputs": [],
      "source": [
        "# YOUR CODE HERE"
      ]
    },
    {
      "cell_type": "markdown",
      "metadata": {
        "id": "5rdPiPYJphs2"
      },
      "source": [
        "### 2.4 plot some spectrograms\n",
        "\n",
        "Next, start exploring the data. Print the shapes of one example's tensorized waveform and the corresponding spectrogram, and play the original audio:"
      ]
    },
    {
      "cell_type": "markdown",
      "metadata": {
        "id": "xnSuqyxJ1isF"
      },
      "source": [
        "Now, define a function for displaying a spectrogram:"
      ]
    },
    {
      "cell_type": "code",
      "execution_count": 31,
      "metadata": {
        "id": "e62jzb36-Jog"
      },
      "outputs": [],
      "source": [
        "def plot_spectrogram(spectrogram, ax):\n",
        "  if len(spectrogram.shape) > 2:\n",
        "    assert len(spectrogram.shape) == 3\n",
        "    spectrogram = np.squeeze(spectrogram, axis=-1)\n",
        "  # Convert the frequencies to log scale and transpose, so that the time is\n",
        "  # represented on the x-axis (columns).\n",
        "  # Add an epsilon to avoid taking a log of zero.\n",
        "  #log_spec = np.log(spectrogram.T + np.finfo(float).eps)\n",
        "  log_spec=spectrogram\n",
        "  height = log_spec.shape[0]\n",
        "  width = log_spec.shape[1]\n",
        "  X = np.linspace(0, np.size(spectrogram), num=width, dtype=int)\n",
        "  Y = range(height)\n",
        "  ax.pcolormesh(X, Y, log_spec)"
      ]
    },
    {
      "cell_type": "markdown",
      "metadata": {
        "id": "baa5c91e8603"
      },
      "source": [
        "Plot the example's waveform over time and the corresponding spectrogram (frequencies over time):"
      ]
    },
    {
      "cell_type": "code",
      "execution_count": null,
      "metadata": {
        "colab": {
          "base_uri": "https://localhost:8080/",
          "height": 756
        },
        "id": "d2_CikgY1tjv",
        "outputId": "58209fec-cb44-4b0d-ab08-3e07674a5767"
      },
      "outputs": [],
      "source": [
        "fig, axes = plt.subplots(2, figsize=(12, 8))\n",
        "timescale = np.arange(waveform.shape[0])\n",
        "axes[0].plot(timescale, waveform)\n",
        "axes[0].set_title('Waveform')\n",
        "axes[0].set_xlim([0, 16000])\n",
        "\n",
        "plot_spectrogram(spectrogram, axes[1])\n",
        "axes[1].set_title('Spectrogram')\n",
        "plt.suptitle(label.title())\n",
        "plt.show()"
      ]
    },
    {
      "cell_type": "markdown",
      "metadata": {},
      "source": [
        "# Task 2: similar to above, plot the Mel-spectrogram for the same audio clip. What difference do you see? "
      ]
    },
    {
      "cell_type": "code",
      "execution_count": null,
      "metadata": {},
      "outputs": [],
      "source": [
        "# YOUR CODE HERE"
      ]
    },
    {
      "cell_type": "markdown",
      "metadata": {
        "id": "GyYXjW07jCHA"
      },
      "source": [
        "### 2.5 Create spectrogram datasets from the audio datasets"
      ]
    },
    {
      "cell_type": "code",
      "execution_count": 35,
      "metadata": {
        "id": "mAD0LpkgqtQo"
      },
      "outputs": [],
      "source": [
        "def make_spec_ds(ds):\n",
        "  return ds.map(\n",
        "      map_func=lambda audio,label: (get_spectrogramMelTF(audio), label),\n",
        "      num_parallel_calls=tf.data.AUTOTUNE)"
      ]
    },
    {
      "cell_type": "code",
      "execution_count": 36,
      "metadata": {
        "id": "TNwwrSYZioTK"
      },
      "outputs": [],
      "source": [
        "def make_spec_ds(ds):\n",
        "  return ds.map(\n",
        "      map_func=lambda audio,label: (get_spectrogram(audio), label),\n",
        "      num_parallel_calls=tf.data.AUTOTUNE)"
      ]
    },
    {
      "cell_type": "code",
      "execution_count": 38,
      "metadata": {
        "colab": {
          "base_uri": "https://localhost:8080/"
        },
        "id": "yEVb_oK0oBLQ",
        "outputId": "dcf892e8-a8c9-45aa-f095-60390f674ea4"
      },
      "outputs": [],
      "source": [
        "train_spectrogram_ds = make_spec_ds(train_ds)\n",
        "val_spectrogram_ds = make_spec_ds(val_ds)\n",
        "test_spectrogram_ds = make_spec_ds(test_ds)"
      ]
    },
    {
      "cell_type": "markdown",
      "metadata": {
        "id": "6gQpAAgMnyDi"
      },
      "source": [
        "Examine the spectrograms for different examples of the dataset:"
      ]
    },
    {
      "cell_type": "code",
      "execution_count": 39,
      "metadata": {
        "id": "EaM2q5aGis-d"
      },
      "outputs": [],
      "source": [
        "for example_spectrograms, example_spect_labels in train_spectrogram_ds.take(1):\n",
        "  break"
      ]
    },
    {
      "cell_type": "code",
      "execution_count": null,
      "metadata": {
        "colab": {
          "base_uri": "https://localhost:8080/",
          "height": 649
        },
        "id": "pxqe2BTNxLSp",
        "outputId": "91616eed-a218-42aa-cc99-ecdfb7e7688e"
      },
      "outputs": [],
      "source": [
        "rows = 3\n",
        "cols = 3\n",
        "n = rows*cols\n",
        "fig, axes = plt.subplots(rows, cols, figsize=(16, 9))\n",
        "\n",
        "for i in range(n):\n",
        "    r = i // cols\n",
        "    c = i % cols\n",
        "    ax = axes[r][c]\n",
        "    plot_spectrogram(example_spectrograms[i].numpy(), ax)\n",
        "    ax.set_title(label_names[example_spect_labels[i].numpy()])\n",
        "\n",
        "plt.show()"
      ]
    },
    {
      "cell_type": "markdown",
      "metadata": {},
      "source": [
        "# Task 3: similar to 2.5 above, except that create the mel-spectrogram data sets and plot several examples. "
      ]
    },
    {
      "cell_type": "code",
      "execution_count": null,
      "metadata": {},
      "outputs": [],
      "source": [
        "# YOUR CODE HERE"
      ]
    },
    {
      "cell_type": "markdown",
      "metadata": {
        "id": "z5KdY8IF8rkt"
      },
      "source": [
        "## 3. Build and train the model\n",
        "\n",
        "Now you should have two versions of the audio datasets: one dataset using spectrogram to represent the audio, the other dataset using mel-spectrogram. Let's train models on both of these data sets and see which one works better!\n",
        "\n",
        "The following code examples all use the spectrogram datasets from above. To train on the mel-spectrogram dataset, you just need to run these commands on the mel-spectrogram dataset as input. "
      ]
    },
    {
      "cell_type": "markdown",
      "metadata": {},
      "source": [
        "### 3.1 Train model using spectrogram"
      ]
    },
    {
      "cell_type": "markdown",
      "metadata": {
        "id": "GS1uIh6F_TN9"
      },
      "source": [
        "Add `Dataset.cache` and `Dataset.prefetch` operations to reduce read latency while training the model:"
      ]
    },
    {
      "cell_type": "code",
      "execution_count": 41,
      "metadata": {
        "id": "fdZ6M-F5_QzY"
      },
      "outputs": [],
      "source": [
        "train_spectrogram_ds = train_spectrogram_ds.cache().shuffle(10000).prefetch(tf.data.AUTOTUNE)\n",
        "val_spectrogram_ds = val_spectrogram_ds.cache().prefetch(tf.data.AUTOTUNE)\n",
        "test_spectrogram_ds = test_spectrogram_ds.cache().prefetch(tf.data.AUTOTUNE)"
      ]
    },
    {
      "cell_type": "markdown",
      "metadata": {
        "id": "rwHkKCQQb5oW"
      },
      "source": [
        "For the model, you'll use a simple convolutional neural network (CNN), since you have transformed the audio files into spectrogram images.\n",
        "\n",
        "Your `tf.keras.Sequential` model will use the following Keras preprocessing layers:\n",
        "\n",
        "- `tf.keras.layers.Resizing`: to downsample the input to enable the model to train faster.\n",
        "- `tf.keras.layers.Normalization`: to normalize each pixel in the image based on its mean and standard deviation.\n",
        "\n",
        "For the `Normalization` layer, its `adapt` method would first need to be called on the training data in order to compute aggregate statistics (that is, the mean and the standard deviation)."
      ]
    },
    {
      "cell_type": "code",
      "execution_count": null,
      "metadata": {
        "colab": {
          "base_uri": "https://localhost:8080/",
          "height": 480
        },
        "id": "ALYz7PFCHblP",
        "outputId": "a0207e3a-e3c0-410b-9eda-06903a8c7960"
      },
      "outputs": [],
      "source": [
        "input_shape = example_spectrograms.shape[1:]\n",
        "print('Input shape:', input_shape)\n",
        "num_labels = len(label_names)\n",
        "\n",
        "# Instantiate the `tf.keras.layers.Normalization` layer.\n",
        "norm_layer = layers.Normalization()\n",
        "# Fit the state of the layer to the spectrograms\n",
        "# with `Normalization.adapt`.\n",
        "norm_layer.adapt(data=train_spectrogram_ds.map(map_func=lambda spec, label: spec))\n",
        "\n",
        "model = models.Sequential([\n",
        "    layers.Input(shape=input_shape),\n",
        "    # Downsample the input.\n",
        "    layers.Resizing(32, 32),\n",
        "    # Normalize.\n",
        "    norm_layer,\n",
        "    layers.Conv2D(32, 3, activation='relu'),\n",
        "    layers.Conv2D(64, 3, activation='relu'),\n",
        "    layers.MaxPooling2D(),\n",
        "    layers.Dropout(0.25),\n",
        "    layers.Flatten(),\n",
        "    layers.Dense(128, activation='relu'),\n",
        "    layers.Dropout(0.5),\n",
        "    layers.Dense(num_labels),\n",
        "])\n",
        "\n",
        "model.summary()"
      ]
    },
    {
      "cell_type": "markdown",
      "metadata": {
        "id": "de52e5afa2f3"
      },
      "source": [
        "Configure the Keras model with the Adam optimizer and the cross-entropy loss:"
      ]
    },
    {
      "cell_type": "code",
      "execution_count": 43,
      "metadata": {
        "id": "wFjj7-EmsTD-"
      },
      "outputs": [],
      "source": [
        "model.compile(\n",
        "    optimizer=tf.keras.optimizers.Adam(),\n",
        "    loss=tf.keras.losses.SparseCategoricalCrossentropy(from_logits=True),\n",
        "    metrics=['accuracy'],\n",
        ")"
      ]
    },
    {
      "cell_type": "markdown",
      "metadata": {
        "id": "f42b9e3a4705"
      },
      "source": [
        "Train the model over 10 epochs for demonstration purposes:"
      ]
    },
    {
      "cell_type": "code",
      "execution_count": null,
      "metadata": {
        "colab": {
          "base_uri": "https://localhost:8080/"
        },
        "id": "ttioPJVMcGtq",
        "outputId": "a568667b-f6e9-447f-f953-fe8a8c1d2917"
      },
      "outputs": [],
      "source": [
        "EPOCHS = 20\n",
        "history = model.fit(\n",
        "    train_spectrogram_ds,\n",
        "    validation_data=val_spectrogram_ds,\n",
        "    epochs=EPOCHS,\n",
        "    callbacks=tf.keras.callbacks.EarlyStopping(verbose=1, patience=3),\n",
        ")"
      ]
    },
    {
      "cell_type": "markdown",
      "metadata": {
        "id": "gjpCDeQ4mUfS"
      },
      "source": [
        "Let's plot the training and validation loss curves to check how your model has improved during training:"
      ]
    },
    {
      "cell_type": "code",
      "execution_count": null,
      "metadata": {
        "colab": {
          "base_uri": "https://localhost:8080/",
          "height": 465
        },
        "id": "nzhipg3Gu2AY",
        "outputId": "d2c29440-5474-4744-a219-a20bbe95e2c1"
      },
      "outputs": [],
      "source": [
        "metrics = history.history\n",
        "plt.figure(figsize=(16,6))\n",
        "plt.subplot(1,2,1)\n",
        "plt.plot(history.epoch, metrics['loss'], metrics['val_loss'])\n",
        "plt.legend(['loss', 'val_loss'])\n",
        "plt.ylim([0, max(plt.ylim())])\n",
        "plt.xlabel('Epoch')\n",
        "plt.ylabel('Loss [CrossEntropy]')\n",
        "\n",
        "plt.subplot(1,2,2)\n",
        "plt.plot(history.epoch, 100*np.array(metrics['accuracy']), 100*np.array(metrics['val_accuracy']))\n",
        "plt.legend(['accuracy', 'val_accuracy'])\n",
        "plt.ylim([0, 100])\n",
        "plt.xlabel('Epoch')\n",
        "plt.ylabel('Accuracy [%]')"
      ]
    },
    {
      "cell_type": "markdown",
      "metadata": {
        "id": "5ZTt3kO3mfm4"
      },
      "source": [
        "## Evaluate the model performance\n",
        "\n",
        "Run the model on the test set and check the model's performance:"
      ]
    },
    {
      "cell_type": "code",
      "execution_count": null,
      "metadata": {
        "id": "FapuRT_SsWGQ"
      },
      "outputs": [],
      "source": [
        "model.evaluate(test_spectrogram_ds, return_dict=True)"
      ]
    },
    {
      "cell_type": "markdown",
      "metadata": {
        "id": "en9Znt1NOabH"
      },
      "source": [
        "### Display a confusion matrix\n",
        "\n",
        "Use a [confusion matrix](https://developers.google.com/machine-learning/glossary#confusion-matrix) to check how well the model did classifying each of the commands in the test set:\n"
      ]
    },
    {
      "cell_type": "code",
      "execution_count": null,
      "metadata": {
        "id": "5Y6vmWWQuuT1"
      },
      "outputs": [],
      "source": [
        "y_pred = model.predict(test_spectrogram_ds)"
      ]
    },
    {
      "cell_type": "code",
      "execution_count": 48,
      "metadata": {
        "id": "d6F0il82u7lW"
      },
      "outputs": [],
      "source": [
        "y_pred = tf.argmax(y_pred, axis=1)"
      ]
    },
    {
      "cell_type": "code",
      "execution_count": null,
      "metadata": {
        "id": "vHSNoBYLvX81"
      },
      "outputs": [],
      "source": [
        "y_true = tf.concat(list(test_spectrogram_ds.map(lambda s,lab: lab)), axis=0)"
      ]
    },
    {
      "cell_type": "code",
      "execution_count": null,
      "metadata": {
        "id": "LvoSAOiXU3lL"
      },
      "outputs": [],
      "source": [
        "confusion_mtx = tf.math.confusion_matrix(y_true, y_pred)\n",
        "plt.figure(figsize=(10, 8))\n",
        "sns.heatmap(confusion_mtx,\n",
        "            xticklabels=label_names,\n",
        "            yticklabels=label_names,\n",
        "            annot=True, fmt='g')\n",
        "plt.xlabel('Prediction')\n",
        "plt.ylabel('Label')\n",
        "plt.show()"
      ]
    },
    {
      "cell_type": "markdown",
      "metadata": {},
      "source": [
        "### 3.2 Train model on Mel spectrogram\n",
        "\n",
        "Now it is your turn to train model on mel-spectrogram input. \n",
        "\n",
        "# Task 4: Train model using Mel-spectrogram\n",
        "\n",
        "Train models and eveluate then using the above code but just using the mel-spectrogram dataset instead of the spectrogram dataset. Report back the comparison between the two models. \n",
        "\n",
        "Extra credit (worth 20% of this homework): Try using NUM_MEL=128 and see if that affects the performance of the mel-spectrogram. "
      ]
    },
    {
      "cell_type": "code",
      "execution_count": null,
      "metadata": {},
      "outputs": [],
      "source": [
        "# YOUR CODE HERE"
      ]
    },
    {
      "cell_type": "markdown",
      "metadata": {
        "id": "mQGi_mzPcLvl"
      },
      "source": [
        "## 4. Run inference on an audio file\n",
        "\n",
        "Finally, verify the model's prediction output using an input audio file of someone saying \"no\". How well does your model perform?"
      ]
    },
    {
      "cell_type": "code",
      "execution_count": null,
      "metadata": {
        "id": "zRxauKMdhofU"
      },
      "outputs": [],
      "source": [
        "x = data_dir/'no/01bb6a2a_nohash_0.wav'\n",
        "x = tf.io.read_file(str(x))\n",
        "x, sample_rate = tf.audio.decode_wav(x, desired_channels=1, desired_samples=16000,)\n",
        "x = tf.squeeze(x, axis=-1)\n",
        "waveform = x\n",
        "x = get_spectrogram(x)\n",
        "x = x[tf.newaxis,...]\n",
        "\n",
        "prediction = model(x)\n",
        "#x_labels = ['no', 'yes', 'down', 'go', 'left', 'up', 'right', 'stop'] wrong order\n",
        "x_labels = ['down', 'go', 'left', 'no', 'right', 'stop', 'up', 'yes']\n",
        "\n",
        "plt.bar(x_labels, tf.nn.softmax(prediction[0]))\n",
        "plt.title('No')\n",
        "plt.show()\n",
        "\n",
        "display.display(display.Audio(waveform, rate=16000))"
      ]
    },
    {
      "cell_type": "markdown",
      "metadata": {
        "id": "VgWICqdqQNaQ"
      },
      "source": [
        "As the output suggests, your model should have recognized the audio command as \"no\"."
      ]
    },
    {
      "cell_type": "markdown",
      "metadata": {},
      "source": [
        "# Task 5: Test both models on 3 randomly sampled commands from the data folders. Did they get it right? "
      ]
    },
    {
      "cell_type": "code",
      "execution_count": null,
      "metadata": {},
      "outputs": [],
      "source": [
        "# YOUR CODE HERE"
      ]
    },
    {
      "cell_type": "markdown",
      "metadata": {
        "id": "h1icqlM3ISW0"
      },
      "source": [
        "# Optional sections: Export the model with preprocessing"
      ]
    },
    {
      "cell_type": "markdown",
      "metadata": {
        "id": "r7HX-MjgIbji"
      },
      "source": [
        "The model's not very easy to use if you have to apply those preprocessing steps before passing data to the model for inference. So build an end-to-end version:"
      ]
    },
    {
      "cell_type": "code",
      "execution_count": null,
      "metadata": {
        "id": "2lIeXdWjIbDE"
      },
      "outputs": [],
      "source": [
        "class ExportModel(tf.Module):\n",
        "  def __init__(self, model):\n",
        "    self.model = model\n",
        "\n",
        "    # Accept either a string-filename or a batch of waveforms.\n",
        "    # YOu could add additional signatures for a single wave, or a ragged-batch.\n",
        "    self.__call__.get_concrete_function(\n",
        "        x=tf.TensorSpec(shape=(), dtype=tf.string))\n",
        "    self.__call__.get_concrete_function(\n",
        "       x=tf.TensorSpec(shape=[None, 16000], dtype=tf.float32))\n",
        "\n",
        "\n",
        "  @tf.function\n",
        "  def __call__(self, x):\n",
        "    # If they pass a string, load the file and decode it.\n",
        "    if x.dtype == tf.string:\n",
        "      x = tf.io.read_file(x)\n",
        "      x, _ = tf.audio.decode_wav(x, desired_channels=1, desired_samples=16000,)\n",
        "      x = tf.squeeze(x, axis=-1)\n",
        "      x = x[tf.newaxis, :]\n",
        "\n",
        "    x = get_spectrogram(x)\n",
        "    result = self.model(x, training=False)\n",
        "\n",
        "    class_ids = tf.argmax(result, axis=-1)\n",
        "    class_names = tf.gather(label_names, class_ids)\n",
        "    return {'predictions':result,\n",
        "            'class_ids': class_ids,\n",
        "            'class_names': class_names}"
      ]
    },
    {
      "cell_type": "markdown",
      "metadata": {
        "id": "gtZBmUiB9HGY"
      },
      "source": [
        "Test run the \"export\" model:"
      ]
    },
    {
      "cell_type": "code",
      "execution_count": null,
      "metadata": {
        "id": "Z1_8TYaCIRue"
      },
      "outputs": [],
      "source": [
        "export = ExportModel(model)\n",
        "export(tf.constant(str(data_dir/'no/01bb6a2a_nohash_0.wav')))"
      ]
    },
    {
      "cell_type": "markdown",
      "metadata": {
        "id": "1J6Iuz829Cxo"
      },
      "source": [
        "Save and reload the model, the reloaded model gives identical output:"
      ]
    },
    {
      "cell_type": "code",
      "execution_count": null,
      "metadata": {
        "id": "wTAg4vsn3oEb"
      },
      "outputs": [],
      "source": [
        "tf.saved_model.save(export, \"saved\")\n",
        "imported = tf.saved_model.load(\"saved\")\n",
        "imported(waveform[tf.newaxis, :])"
      ]
    },
    {
      "cell_type": "markdown",
      "metadata": {
        "id": "J3jF933m9z1J"
      },
      "source": [
        "## Next steps\n",
        "\n",
        "This tutorial demonstrated how to carry out simple audio classification/automatic speech recognition using a convolutional neural network with TensorFlow and Python. To learn more, consider the following resources:\n",
        "\n",
        "- The [Sound classification with YAMNet](https://www.tensorflow.org/hub/tutorials/yamnet) tutorial shows how to use transfer learning for audio classification.\n",
        "- The notebooks from [Kaggle's TensorFlow speech recognition challenge](https://www.kaggle.com/c/tensorflow-speech-recognition-challenge/overview).\n",
        "- The\n",
        "[TensorFlow.js - Audio recognition using transfer learning codelab](https://codelabs.developers.google.com/codelabs/tensorflowjs-audio-codelab/index.html#0) teaches how to build your own interactive web app for audio classification.\n",
        "- [A tutorial on deep learning for music information retrieval](https://arxiv.org/abs/1709.04396) (Choi et al., 2017) on arXiv.\n",
        "- TensorFlow also has additional support for [audio data preparation and augmentation](https://www.tensorflow.org/io/tutorials/audio) to help with your own audio-based projects.\n",
        "- Consider using the [librosa](https://librosa.org/) library for music and audio analysis."
      ]
    }
  ],
  "metadata": {
    "accelerator": "GPU",
    "colab": {
      "gpuType": "T4",
      "provenance": [],
      "toc_visible": true
    },
    "kernelspec": {
      "display_name": "Python 3",
      "name": "python3"
    },
    "language_info": {
      "codemirror_mode": {
        "name": "ipython",
        "version": 3
      },
      "file_extension": ".py",
      "mimetype": "text/x-python",
      "name": "python",
      "nbconvert_exporter": "python",
      "pygments_lexer": "ipython3",
      "version": "3.9.7"
    }
  },
  "nbformat": 4,
  "nbformat_minor": 0
}
